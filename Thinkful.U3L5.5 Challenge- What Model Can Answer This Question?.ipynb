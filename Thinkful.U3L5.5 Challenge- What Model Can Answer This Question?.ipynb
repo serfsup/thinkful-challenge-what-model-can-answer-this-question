{
 "cells": [
  {
   "cell_type": "markdown",
   "metadata": {},
   "source": [
    "<b>1. Predict the running times of prospective Olympic sprinters using data from the last 20 Olympics.</b>\n",
    "\n",
    "Random Forest, Multivariate Linear"
   ]
  },
  {
   "cell_type": "markdown",
   "metadata": {},
   "source": [
    "<b>2. You have more features (columns) than rows in your dataset.</b>\n",
    "\n",
    "Feature Engineering, Ridge, Lasso"
   ]
  },
  {
   "cell_type": "markdown",
   "metadata": {},
   "source": [
    "<b>3. Identify the most important characteristic predicting likelihood of being jailed before age 20.</b>\n",
    "\n",
    "Gradient Boosting, Random Forest"
   ]
  },
  {
   "cell_type": "markdown",
   "metadata": {},
   "source": [
    "<b>4. Implement a filter to “highlight” emails that might be important to the recipient.</b>\n",
    "\n",
    "Naive Bayes"
   ]
  },
  {
   "cell_type": "markdown",
   "metadata": {},
   "source": [
    "<b>5. You have 1000+ features.</b>\n",
    "\n",
    "Principal Component Analysis, Lasso"
   ]
  },
  {
   "cell_type": "markdown",
   "metadata": {},
   "source": [
    "<b>6. Predict whether someone who adds items to their cart on a website will purchase the items.</b>\n",
    "\n",
    "Logistic Regression"
   ]
  },
  {
   "cell_type": "markdown",
   "metadata": {},
   "source": [
    "<b>7. Your dataset dimensions are 982400 x 500.</b>\n",
    "\n",
    "Principal Component Analysis, Multivariate Linear, Ridge, or Lasso."
   ]
  },
  {
   "cell_type": "markdown",
   "metadata": {},
   "source": [
    "<b>8. Identify faces in an image.</b>\n",
    "\n",
    "Support Vector Classifier                                                                                                                                                                                                                                                                                                                                                                                                                                                    "
   ]
  },
  {
   "cell_type": "markdown",
   "metadata": {},
   "source": [
    "<b>9. Predict which of three flavors of ice cream will be most popular with boys vs girls.</b>\n",
    "\n",
    "Logistic Regression"
   ]
  },
  {
   "cell_type": "code",
   "execution_count": null,
   "metadata": {},
   "outputs": [],
   "source": []
  }
 ],
 "metadata": {
  "kernelspec": {
   "display_name": "Python 3",
   "language": "python",
   "name": "python3"
  },
  "language_info": {
   "codemirror_mode": {
    "name": "ipython",
    "version": 3
   },
   "file_extension": ".py",
   "mimetype": "text/x-python",
   "name": "python",
   "nbconvert_exporter": "python",
   "pygments_lexer": "ipython3",
   "version": "3.6.1"
  }
 },
 "nbformat": 4,
 "nbformat_minor": 2
}
